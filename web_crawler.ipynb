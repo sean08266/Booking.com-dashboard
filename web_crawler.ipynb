{
 "cells": [
  {
   "cell_type": "code",
   "execution_count": 19,
   "metadata": {},
   "outputs": [],
   "source": [
    "import requests\n",
    "from bs4 import BeautifulSoup\n",
    "import pandas as pd\n",
    "import time\n",
    "from urllib.parse import urlencode, quote_plus"
   ]
  },
  {
   "cell_type": "markdown",
   "metadata": {},
   "source": [
    "---\n",
    "### 爬蟲\n",
    "---"
   ]
  },
  {
   "cell_type": "code",
   "execution_count": 20,
   "metadata": {},
   "outputs": [],
   "source": [
    "def booking_crawler(location, checkin_date, checkout_date):\n",
    "    def generate_booking_url(location, checkin_date, checkout_date):\n",
    "        base_url = \"https://www.booking.com/searchresults.zh-tw.html\"\n",
    "\n",
    "        # 定義搜索參數\n",
    "        params = {\n",
    "            'ss': location,                  # 地點\n",
    "            'checkin': checkin_date,         # 入住日期\n",
    "            'checkout': checkout_date,       # 退房日期\n",
    "            'lang': 'zh-tw',                 # 語言\n",
    "            'sb': '1',                        # 啟用搜索盒\n",
    "            'src_elem': 'sb',                 # 搜索來源元素\n",
    "            'src': 'index',                   # 搜索來源\n",
    "            'dest_id': '',                    # 你需要提供正確的目的地 ID\n",
    "            'dest_type': 'city',              # 目的地類型\n",
    "            'group_adults': '2',              # 成人數\n",
    "            'no_rooms': '1',                  # 房間數\n",
    "            'group_children': '0',            # 兒童數\n",
    "            'sb_travel_purpose': 'leisure',   # 旅行目的\n",
    "        }\n",
    "\n",
    "        # 使用 urlencode 和 quote_plus 將參數編碼並構建 URL 字符串\n",
    "        encoded_params = urlencode(params, quote_via=quote_plus)\n",
    "        final_url = f\"{base_url}?{encoded_params}\"\n",
    "\n",
    "        return final_url\n",
    "\n",
    "    \n",
    "    location_input = location\n",
    "    checkin_date_input = checkin_date\n",
    "    checkout_date_input = checkout_date\n",
    "\n",
    "    url_book = generate_booking_url(location_input, checkin_date_input, checkout_date_input)\n",
    "    def scrape_booking_data(url, num_pages=6):\n",
    "        headers = {\n",
    "            'User-Agent': 'Mozilla/5.0 (Macintosh; Intel Mac OS X 10_15_4) AppleWebKit/537.36 (KHTML, like Gecko) Chrome/81.0.4044.113 Safari/537.36',\n",
    "            'Accept-Language': 'en-GB,en-US;q=0.9,en;q=0.8',\n",
    "        }\n",
    "\n",
    "        all_data = pd.DataFrame()  # 保存所有頁面的數據\n",
    "\n",
    "        for page in range(1, num_pages + 1):\n",
    "            # 構建每頁的 URL\n",
    "            page_url = f\"{url}&offset={(page - 1) * 25}\"\n",
    "\n",
    "            response = requests.get(page_url, headers=headers)\n",
    "            soup = BeautifulSoup(response.text, \"html.parser\")\n",
    "\n",
    "            hotels = soup.findAll(\"div\", {'data-testid': 'property-card'})\n",
    "\n",
    "            name_list = []\n",
    "            location_list = []\n",
    "            price_list = []\n",
    "            rating_list = []\n",
    "            distance_list = []\n",
    "            comments_list = []\n",
    "\n",
    "            for hotel in hotels:\n",
    "                name = hotel.find(\"div\", {'data-testid': 'title'}).text.strip()\n",
    "                name_list.append(name)\n",
    "\n",
    "                location = hotel.find(\"span\", {'data-testid': 'address'}).text.strip()\n",
    "                location_list.append(location)\n",
    "\n",
    "                price = hotel.find(\"span\", {'data-testid': 'price-and-discounted-price'}).text.strip().replace('\\xa0', ' ')\n",
    "                price_list.append(price)\n",
    "\n",
    "                rating = float(hotel.find(\"div\", class_=\"a3b8729ab1 d86cee9b25\").text.strip())\n",
    "                rating_list.append(rating)\n",
    "\n",
    "                distance = hotel.find(\"span\", {'data-testid': 'distance'}).text.strip()\n",
    "                distance_list.append(distance)\n",
    "\n",
    "                comments = hotel.find(\"div\", class_=\"a3b8729ab1 e6208ee469 cb2cbb3ccb\").text.strip()\n",
    "                comments_list.append(comments)\n",
    "\n",
    "            # 將每頁的數據組織成 DataFrame\n",
    "            data = {\n",
    "                'name': name_list,\n",
    "                'location': location_list,\n",
    "                'price': price_list,\n",
    "                'rating': rating_list,\n",
    "                'distance': distance_list,\n",
    "                'comments': comments_list\n",
    "            }\n",
    "\n",
    "            df = pd.DataFrame(data)\n",
    "            all_data = pd.concat([all_data, df], ignore_index=True)\n",
    "\n",
    "            # 休眠一下，避免對網站造成過多請求\n",
    "            time.sleep(1)\n",
    "\n",
    "        return all_data\n",
    "\n",
    "\n",
    "    return scrape_booking_data(url_book,num_pages=5).drop_duplicates().reset_index(drop=True)"
   ]
  },
  {
   "cell_type": "code",
   "execution_count": 21,
   "metadata": {},
   "outputs": [],
   "source": [
    "location_input = input(\"請輸入地點：\")\n",
    "checkin_date_input = input(\"請輸入入住日期（YYYY-MM-DD）：\")\n",
    "checkout_date_input = input(\"請輸入退房日期（YYYY-MM-DD）：\")\n",
    "\n",
    "result_df = booking_crawler(location_input, checkin_date_input, checkout_date_input)"
   ]
  },
  {
   "cell_type": "markdown",
   "metadata": {},
   "source": [
    "---\n",
    "### 資料清理\n",
    "---"
   ]
  },
  {
   "cell_type": "code",
   "execution_count": 125,
   "metadata": {},
   "outputs": [],
   "source": [
    "result_df['name'] = result_df['name'].astype(str)\n",
    "result_df['price'] = result_df['price'].str.replace('TWD ', '').str.replace(',', '').astype(int).astype(int)\n",
    "result_df['comments'] = result_df['comments'].astype(str)"
   ]
  },
  {
   "cell_type": "code",
   "execution_count": 126,
   "metadata": {},
   "outputs": [],
   "source": [
    "result_df[\"distance\"]=result_df[\"distance\"].str.replace('距中心 ', '')"
   ]
  },
  {
   "cell_type": "code",
   "execution_count": null,
   "metadata": {},
   "outputs": [],
   "source": [
    "for i in range(len(result_df[\"distance\"])):\n",
    "    if '公尺' in result_df[\"distance\"][i].split(\" \")[1]:\n",
    "        result_df[\"distance\"][i] = float(result_df[\"distance\"][i].split(\" \")[0])*0.001\n",
    "    else:\n",
    "        result_df[\"distance\"][i] = float(result_df[\"distance\"][i].split(\" \")[0])"
   ]
  },
  {
   "cell_type": "code",
   "execution_count": 128,
   "metadata": {},
   "outputs": [],
   "source": [
    "result_df[\"distance\"]=result_df[\"distance\"].astype(float)"
   ]
  },
  {
   "cell_type": "code",
   "execution_count": 140,
   "metadata": {},
   "outputs": [
    {
     "data": {
      "text/plain": [
       "name         object\n",
       "location     object\n",
       "price         int32\n",
       "rating      float64\n",
       "distance    float64\n",
       "comments     object\n",
       "dtype: object"
      ]
     },
     "execution_count": 140,
     "metadata": {},
     "output_type": "execute_result"
    }
   ],
   "source": [
    "result_df.dtypes"
   ]
  },
  {
   "cell_type": "markdown",
   "metadata": {},
   "source": [
    "---\n",
    "### 將資料處理過程包成函式\n",
    "---"
   ]
  },
  {
   "cell_type": "code",
   "execution_count": 22,
   "metadata": {},
   "outputs": [],
   "source": [
    "def preprocess_data(df):\n",
    "    # 將 'name' 欄位轉為字串\n",
    "    df['name'] = df['name'].astype(str)\n",
    "\n",
    "    # 將 'price' 欄位去除 'TWD '，並移除逗號，轉為整數型態\n",
    "    df['price'] = df['price'].str.replace('TWD ', '').str.replace(',', '').astype(int)\n",
    "\n",
    "    # 將 'comments' 欄位轉為字串\n",
    "    df['comments'] = df['comments'].astype(str)\n",
    "# 將 'distance' 欄位轉為浮點數\n",
    "    df[\"distance\"]=df[\"distance\"].str.replace('距中心 ', '')\n",
    "    # 將 'distance' 欄位去除 '距中心 '，並根據單位轉為浮點數\n",
    "    for i in range(len(df[\"distance\"])):\n",
    "        if '公尺' in df[\"distance\"][i].split(\" \")[1]:\n",
    "            df[\"distance\"][i] = float(df[\"distance\"][i].split(\" \")[0]) * 0.001\n",
    "        else:\n",
    "            df[\"distance\"][i] = float(df[\"distance\"][i].split(\" \")[0])\n",
    "    df[\"distance\"]=df[\"distance\"].astype(float)\n",
    "    \n",
    "\n",
    "    return df\n"
   ]
  },
  {
   "cell_type": "code",
   "execution_count": null,
   "metadata": {},
   "outputs": [],
   "source": [
    "preprocess_data(result_df)"
   ]
  },
  {
   "cell_type": "markdown",
   "metadata": {},
   "source": [
    "---\n",
    "### 資料視覺化\n",
    "---"
   ]
  },
  {
   "cell_type": "code",
   "execution_count": 24,
   "metadata": {},
   "outputs": [],
   "source": [
    "import plotly.express as px"
   ]
  },
  {
   "cell_type": "code",
   "execution_count": 25,
   "metadata": {},
   "outputs": [
    {
     "data": {
      "application/vnd.plotly.v1+json": {
       "config": {
        "plotlyServerURL": "https://plot.ly"
       },
       "data": [
        {
         "customdata": [
          [
           8.4
          ],
          [
           8.4
          ],
          [
           8.8
          ],
          [
           8.2
          ],
          [
           8.2
          ],
          [
           8.8
          ],
          [
           8.3
          ],
          [
           8.2
          ],
          [
           7.1
          ],
          [
           8.6
          ],
          [
           8.8
          ],
          [
           8.9
          ],
          [
           9.3
          ],
          [
           8.7
          ],
          [
           8.2
          ],
          [
           8.8
          ],
          [
           7.8
          ],
          [
           9
          ],
          [
           8.6
          ],
          [
           7.8
          ],
          [
           8.4
          ],
          [
           8.7
          ],
          [
           7.8
          ],
          [
           7.1
          ],
          [
           8.4
          ],
          [
           8.6
          ],
          [
           8
          ],
          [
           8.9
          ],
          [
           8.6
          ],
          [
           8
          ],
          [
           8.6
          ],
          [
           8.5
          ],
          [
           8.2
          ],
          [
           8.6
          ],
          [
           7.7
          ],
          [
           8.6
          ],
          [
           8
          ],
          [
           8.6
          ],
          [
           8.1
          ],
          [
           8
          ],
          [
           8
          ],
          [
           8.5
          ],
          [
           9
          ],
          [
           8.1
          ],
          [
           8.6
          ],
          [
           8
          ],
          [
           7.9
          ],
          [
           8.5
          ],
          [
           8.9
          ],
          [
           7.7
          ],
          [
           8.2
          ],
          [
           8
          ],
          [
           8.8
          ],
          [
           9.2
          ],
          [
           8.2
          ],
          [
           9
          ],
          [
           9.4
          ],
          [
           9.2
          ],
          [
           8.9
          ],
          [
           9
          ],
          [
           9
          ],
          [
           7.8
          ],
          [
           8.6
          ],
          [
           8.1
          ],
          [
           8
          ],
          [
           8.7
          ],
          [
           8.3
          ],
          [
           7.6
          ],
          [
           7.9
          ],
          [
           7.9
          ],
          [
           8.6
          ],
          [
           8.8
          ],
          [
           8.5
          ],
          [
           8.4
          ],
          [
           8.5
          ],
          [
           7.9
          ],
          [
           8.2
          ],
          [
           8.4
          ],
          [
           7.3
          ],
          [
           8.7
          ],
          [
           7.2
          ],
          [
           8
          ],
          [
           8.6
          ],
          [
           7.7
          ],
          [
           8
          ],
          [
           8.5
          ],
          [
           7.3
          ],
          [
           7.3
          ],
          [
           8.1
          ],
          [
           8
          ],
          [
           8.4
          ],
          [
           8.2
          ],
          [
           9.4
          ],
          [
           8.2
          ],
          [
           7.9
          ],
          [
           7.9
          ],
          [
           7.9
          ],
          [
           7.5
          ],
          [
           8.7
          ],
          [
           7.9
          ],
          [
           8
          ],
          [
           7.7
          ],
          [
           8.2
          ]
         ],
         "hovertemplate": "<b>%{hovertext}</b><br><br>Price (TWD)=%{x}<br>Distance (km)=%{y}<br>rating=%{marker.color}<extra></extra>",
         "hovertext": [
          "夏優旅居-駁二館",
          "西子灣大飯店",
          "Kaohsiung Marriott Hotel 高雄萬豪酒店",
          "天藝商旅",
          "好地方飯店六合館",
          "福容徠旅 高雄",
          "好地方大飯店三多館",
          "WO Hotel",
          "奇異果快捷旅店-高雄車站店",
          "宮賞藝術大飯店",
          "帕可麗酒店 PARK LEES HOTEL",
          "巨蛋旅店",
          "水京棧國際酒店",
          "樂逸文旅-六合夜市棒球館",
          "家和商旅",
          "捷絲旅高雄站前館",
          "中央商務大飯店",
          "高雄洲際酒店",
          "高雄行旅",
          "御宿國際商旅-後驛館",
          "御宿行旅 - 雄中館",
          "帕鉑舍旅",
          "南海商務大飯店",
          "龍翔商務大飯店",
          "康橋商旅五甲館",
          "理歐111/鹽埕駁二館",
          "盛薈飯店",
          "康橋商旅-高雄站前館",
          "Uno青年旅舍",
          "富驛商旅高雄中華路館",
          "旅居文旅 高雄亞灣館",
          "旅聚居青年旅舍",
          "御宿國際商旅- 博愛館",
          "星行旅",
          "蓮潭國際會館",
          "和逸飯店．高雄中山館",
          "高雄商旅",
          "棧貳沐居",
          "德立莊 - 高雄博愛館",
          "三多旅店",
          "七桃公寓",
          "大港小住",
          "康橋商旅-覺民館",
          "旅居文旅高雄七賢館",
          "樂芙優旅精品旅館",
          "御宿國際商旅-站前館",
          "塔木德酒店 Classic 高雄愛河館",
          "康橋商旅- 漢神館",
          "康橋商旅-三多商圈館",
          "巴黎商務酒店",
          "承攜行旅學產文教會館高雄美術館",
          "河堤國際商旅",
          "秝芯旅店駁二館",
          "JÒHŌ HOTEL Kaohsiung",
          "麗馨商旅七賢館",
          "住飯店",
          "晶英國際行館",
          "比歐緻居",
          "康橋商旅-七賢館",
          "喜達絲飯店",
          "漢來大飯店",
          "虎屋自助民宿",
          "西悠巢旅-高雄車站館",
          "旅行家商旅",
          "鮪魚家族飯店高雄館(黑鮪魚)",
          "頭等艙高雄站前館",
          "艾探吉 AI TAN JI",
          "奇異果快捷旅店（高雄九如店）",
          "京城大飯店",
          "高雄信宗大飯店",
          "康橋商旅-中山八德馆",
          "康橋商旅- 光榮碼頭",
          "捷絲旅高雄中正館",
          "皇家金宸大飯店",
          "碧港良居商旅-The Harbour",
          "歐遊國際連鎖精品旅館-高雄館",
          "華園大飯店草衙館",
          "高雄圓山大飯店",
          "歌德商旅",
          "紙飛機高雄青年旅館",
          "固興大飯店",
          "高雄文賓大飯店 - 駁二館",
          "樂逸旅居",
          "三華大飯店",
          "高雄漢王洲際飯店",
          "237旅店",
          "香堤時尚旅館",
          "空中城都會商旅",
          "八五亞太旅店 (亞太投資大樓)",
          "高雄靉嗨文旅",
          "皇家金宸大飯店",
          "承億文旅小承輕旅",
          "秧秧微旅 Jezreel Inn",
          "歐閣精品汽車旅館-高雄館",
          "高雄靉嗨三多行旅",
          "新崛江商旅",
          "R10 環保文旅",
          "舶刻青旅",
          "繽紛樂旅店",
          "高雄統茂大飯店",
          "陽光大飯店",
          "九福大飯店",
          "背包41青年旅館-高雄館"
         ],
         "legendgroup": "",
         "marker": {
          "color": [
           8.4,
           8.4,
           8.8,
           8.2,
           8.2,
           8.8,
           8.3,
           8.2,
           7.1,
           8.6,
           8.8,
           8.9,
           9.3,
           8.7,
           8.2,
           8.8,
           7.8,
           9,
           8.6,
           7.8,
           8.4,
           8.7,
           7.8,
           7.1,
           8.4,
           8.6,
           8,
           8.9,
           8.6,
           8,
           8.6,
           8.5,
           8.2,
           8.6,
           7.7,
           8.6,
           8,
           8.6,
           8.1,
           8,
           8,
           8.5,
           9,
           8.1,
           8.6,
           8,
           7.9,
           8.5,
           8.9,
           7.7,
           8.2,
           8,
           8.8,
           9.2,
           8.2,
           9,
           9.4,
           9.2,
           8.9,
           9,
           9,
           7.8,
           8.6,
           8.1,
           8,
           8.7,
           8.3,
           7.6,
           7.9,
           7.9,
           8.6,
           8.8,
           8.5,
           8.4,
           8.5,
           7.9,
           8.2,
           8.4,
           7.3,
           8.7,
           7.2,
           8,
           8.6,
           7.7,
           8,
           8.5,
           7.3,
           7.3,
           8.1,
           8,
           8.4,
           8.2,
           9.4,
           8.2,
           7.9,
           7.9,
           7.9,
           7.5,
           8.7,
           7.9,
           8,
           7.7,
           8.2
          ],
          "coloraxis": "coloraxis",
          "symbol": "circle"
         },
         "mode": "markers",
         "name": "",
         "orientation": "v",
         "showlegend": false,
         "type": "scatter",
         "x": [
          1259,
          1380,
          5100,
          1711,
          720,
          2399,
          990,
          1980,
          860,
          3025,
          3700,
          3555,
          5544,
          1160,
          1035,
          2900,
          580,
          7437,
          1529,
          1200,
          1100,
          3136,
          833,
          480,
          1760,
          1480,
          1580,
          2304,
          1222,
          1152,
          1332,
          1323,
          1500,
          1033,
          3600,
          3088,
          3000,
          1500,
          1520,
          1088,
          704,
          2127,
          2580,
          480,
          2500,
          1300,
          2214,
          1944,
          2502,
          2680,
          1647,
          1620,
          1334,
          3937,
          1152,
          4200,
          6809,
          4659,
          3379,
          4500,
          4980,
          990,
          1443,
          1125,
          1411,
          1782,
          1193,
          1199,
          1650,
          2400,
          2141,
          2880,
          5040,
          2070,
          2282,
          2164,
          2356,
          3900,
          900,
          614,
          805,
          1512,
          2890,
          1361,
          1530,
          1550,
          2166,
          900,
          1120,
          986,
          2300,
          2232,
          1600,
          2160,
          766,
          755,
          990,
          1800,
          1450,
          1169,
          2200,
          1820,
          1080
         ],
         "xaxis": "x",
         "y": [
          3.2,
          2.1,
          3.9,
          2,
          2.3,
          2.1,
          1.3,
          2.7,
          2.5,
          1.7,
          5,
          5.2,
          4.9,
          1.7,
          2.8,
          1.9,
          1.6,
          1.4,
          1.9,
          2.6,
          2.3,
          2.5,
          1.9,
          5,
          3.7,
          2.8,
          2.3,
          2.1,
          1.1,
          1.8,
          1.3,
          1.7,
          2.8,
          1.7,
          6.5,
          1,
          1,
          3.6,
          3.4,
          0.5,
          1.4,
          1.1,
          3.3,
          2.2,
          5,
          2.1,
          1.8,
          1.3,
          0.6,
          1.6,
          4.4,
          7.3,
          2.6,
          2,
          2.6,
          1.4,
          1.3,
          1.2,
          2.1,
          1.7,
          1.6,
          0.9,
          2.5,
          2.2,
          2.1,
          2.2,
          1,
          2.4,
          2.6,
          2.9,
          2,
          1.8,
          2.2,
          4.3,
          4.5,
          2.8,
          4.6,
          5.1,
          2.9,
          3.3,
          2.4,
          3,
          1.8,
          1.4,
          3.2,
          3.1,
          16.3,
          1.5,
          1.3,
          1.8,
          4.3,
          1.7,
          1.3,
          1.2,
          0.5,
          0.6,
          1.8,
          4,
          1.3,
          1.4,
          1.3,
          1.9,
          0.9
         ],
         "yaxis": "y"
        }
       ],
       "layout": {
        "coloraxis": {
         "colorbar": {
          "title": {
           "text": "rating"
          }
         },
         "colorscale": [
          [
           0,
           "#0d0887"
          ],
          [
           0.1111111111111111,
           "#46039f"
          ],
          [
           0.2222222222222222,
           "#7201a8"
          ],
          [
           0.3333333333333333,
           "#9c179e"
          ],
          [
           0.4444444444444444,
           "#bd3786"
          ],
          [
           0.5555555555555556,
           "#d8576b"
          ],
          [
           0.6666666666666666,
           "#ed7953"
          ],
          [
           0.7777777777777778,
           "#fb9f3a"
          ],
          [
           0.8888888888888888,
           "#fdca26"
          ],
          [
           1,
           "#f0f921"
          ]
         ]
        },
        "legend": {
         "tracegroupgap": 0
        },
        "template": {
         "data": {
          "bar": [
           {
            "error_x": {
             "color": "#2a3f5f"
            },
            "error_y": {
             "color": "#2a3f5f"
            },
            "marker": {
             "line": {
              "color": "#E5ECF6",
              "width": 0.5
             },
             "pattern": {
              "fillmode": "overlay",
              "size": 10,
              "solidity": 0.2
             }
            },
            "type": "bar"
           }
          ],
          "barpolar": [
           {
            "marker": {
             "line": {
              "color": "#E5ECF6",
              "width": 0.5
             },
             "pattern": {
              "fillmode": "overlay",
              "size": 10,
              "solidity": 0.2
             }
            },
            "type": "barpolar"
           }
          ],
          "carpet": [
           {
            "aaxis": {
             "endlinecolor": "#2a3f5f",
             "gridcolor": "white",
             "linecolor": "white",
             "minorgridcolor": "white",
             "startlinecolor": "#2a3f5f"
            },
            "baxis": {
             "endlinecolor": "#2a3f5f",
             "gridcolor": "white",
             "linecolor": "white",
             "minorgridcolor": "white",
             "startlinecolor": "#2a3f5f"
            },
            "type": "carpet"
           }
          ],
          "choropleth": [
           {
            "colorbar": {
             "outlinewidth": 0,
             "ticks": ""
            },
            "type": "choropleth"
           }
          ],
          "contour": [
           {
            "colorbar": {
             "outlinewidth": 0,
             "ticks": ""
            },
            "colorscale": [
             [
              0,
              "#0d0887"
             ],
             [
              0.1111111111111111,
              "#46039f"
             ],
             [
              0.2222222222222222,
              "#7201a8"
             ],
             [
              0.3333333333333333,
              "#9c179e"
             ],
             [
              0.4444444444444444,
              "#bd3786"
             ],
             [
              0.5555555555555556,
              "#d8576b"
             ],
             [
              0.6666666666666666,
              "#ed7953"
             ],
             [
              0.7777777777777778,
              "#fb9f3a"
             ],
             [
              0.8888888888888888,
              "#fdca26"
             ],
             [
              1,
              "#f0f921"
             ]
            ],
            "type": "contour"
           }
          ],
          "contourcarpet": [
           {
            "colorbar": {
             "outlinewidth": 0,
             "ticks": ""
            },
            "type": "contourcarpet"
           }
          ],
          "heatmap": [
           {
            "colorbar": {
             "outlinewidth": 0,
             "ticks": ""
            },
            "colorscale": [
             [
              0,
              "#0d0887"
             ],
             [
              0.1111111111111111,
              "#46039f"
             ],
             [
              0.2222222222222222,
              "#7201a8"
             ],
             [
              0.3333333333333333,
              "#9c179e"
             ],
             [
              0.4444444444444444,
              "#bd3786"
             ],
             [
              0.5555555555555556,
              "#d8576b"
             ],
             [
              0.6666666666666666,
              "#ed7953"
             ],
             [
              0.7777777777777778,
              "#fb9f3a"
             ],
             [
              0.8888888888888888,
              "#fdca26"
             ],
             [
              1,
              "#f0f921"
             ]
            ],
            "type": "heatmap"
           }
          ],
          "heatmapgl": [
           {
            "colorbar": {
             "outlinewidth": 0,
             "ticks": ""
            },
            "colorscale": [
             [
              0,
              "#0d0887"
             ],
             [
              0.1111111111111111,
              "#46039f"
             ],
             [
              0.2222222222222222,
              "#7201a8"
             ],
             [
              0.3333333333333333,
              "#9c179e"
             ],
             [
              0.4444444444444444,
              "#bd3786"
             ],
             [
              0.5555555555555556,
              "#d8576b"
             ],
             [
              0.6666666666666666,
              "#ed7953"
             ],
             [
              0.7777777777777778,
              "#fb9f3a"
             ],
             [
              0.8888888888888888,
              "#fdca26"
             ],
             [
              1,
              "#f0f921"
             ]
            ],
            "type": "heatmapgl"
           }
          ],
          "histogram": [
           {
            "marker": {
             "pattern": {
              "fillmode": "overlay",
              "size": 10,
              "solidity": 0.2
             }
            },
            "type": "histogram"
           }
          ],
          "histogram2d": [
           {
            "colorbar": {
             "outlinewidth": 0,
             "ticks": ""
            },
            "colorscale": [
             [
              0,
              "#0d0887"
             ],
             [
              0.1111111111111111,
              "#46039f"
             ],
             [
              0.2222222222222222,
              "#7201a8"
             ],
             [
              0.3333333333333333,
              "#9c179e"
             ],
             [
              0.4444444444444444,
              "#bd3786"
             ],
             [
              0.5555555555555556,
              "#d8576b"
             ],
             [
              0.6666666666666666,
              "#ed7953"
             ],
             [
              0.7777777777777778,
              "#fb9f3a"
             ],
             [
              0.8888888888888888,
              "#fdca26"
             ],
             [
              1,
              "#f0f921"
             ]
            ],
            "type": "histogram2d"
           }
          ],
          "histogram2dcontour": [
           {
            "colorbar": {
             "outlinewidth": 0,
             "ticks": ""
            },
            "colorscale": [
             [
              0,
              "#0d0887"
             ],
             [
              0.1111111111111111,
              "#46039f"
             ],
             [
              0.2222222222222222,
              "#7201a8"
             ],
             [
              0.3333333333333333,
              "#9c179e"
             ],
             [
              0.4444444444444444,
              "#bd3786"
             ],
             [
              0.5555555555555556,
              "#d8576b"
             ],
             [
              0.6666666666666666,
              "#ed7953"
             ],
             [
              0.7777777777777778,
              "#fb9f3a"
             ],
             [
              0.8888888888888888,
              "#fdca26"
             ],
             [
              1,
              "#f0f921"
             ]
            ],
            "type": "histogram2dcontour"
           }
          ],
          "mesh3d": [
           {
            "colorbar": {
             "outlinewidth": 0,
             "ticks": ""
            },
            "type": "mesh3d"
           }
          ],
          "parcoords": [
           {
            "line": {
             "colorbar": {
              "outlinewidth": 0,
              "ticks": ""
             }
            },
            "type": "parcoords"
           }
          ],
          "pie": [
           {
            "automargin": true,
            "type": "pie"
           }
          ],
          "scatter": [
           {
            "fillpattern": {
             "fillmode": "overlay",
             "size": 10,
             "solidity": 0.2
            },
            "type": "scatter"
           }
          ],
          "scatter3d": [
           {
            "line": {
             "colorbar": {
              "outlinewidth": 0,
              "ticks": ""
             }
            },
            "marker": {
             "colorbar": {
              "outlinewidth": 0,
              "ticks": ""
             }
            },
            "type": "scatter3d"
           }
          ],
          "scattercarpet": [
           {
            "marker": {
             "colorbar": {
              "outlinewidth": 0,
              "ticks": ""
             }
            },
            "type": "scattercarpet"
           }
          ],
          "scattergeo": [
           {
            "marker": {
             "colorbar": {
              "outlinewidth": 0,
              "ticks": ""
             }
            },
            "type": "scattergeo"
           }
          ],
          "scattergl": [
           {
            "marker": {
             "colorbar": {
              "outlinewidth": 0,
              "ticks": ""
             }
            },
            "type": "scattergl"
           }
          ],
          "scattermapbox": [
           {
            "marker": {
             "colorbar": {
              "outlinewidth": 0,
              "ticks": ""
             }
            },
            "type": "scattermapbox"
           }
          ],
          "scatterpolar": [
           {
            "marker": {
             "colorbar": {
              "outlinewidth": 0,
              "ticks": ""
             }
            },
            "type": "scatterpolar"
           }
          ],
          "scatterpolargl": [
           {
            "marker": {
             "colorbar": {
              "outlinewidth": 0,
              "ticks": ""
             }
            },
            "type": "scatterpolargl"
           }
          ],
          "scatterternary": [
           {
            "marker": {
             "colorbar": {
              "outlinewidth": 0,
              "ticks": ""
             }
            },
            "type": "scatterternary"
           }
          ],
          "surface": [
           {
            "colorbar": {
             "outlinewidth": 0,
             "ticks": ""
            },
            "colorscale": [
             [
              0,
              "#0d0887"
             ],
             [
              0.1111111111111111,
              "#46039f"
             ],
             [
              0.2222222222222222,
              "#7201a8"
             ],
             [
              0.3333333333333333,
              "#9c179e"
             ],
             [
              0.4444444444444444,
              "#bd3786"
             ],
             [
              0.5555555555555556,
              "#d8576b"
             ],
             [
              0.6666666666666666,
              "#ed7953"
             ],
             [
              0.7777777777777778,
              "#fb9f3a"
             ],
             [
              0.8888888888888888,
              "#fdca26"
             ],
             [
              1,
              "#f0f921"
             ]
            ],
            "type": "surface"
           }
          ],
          "table": [
           {
            "cells": {
             "fill": {
              "color": "#EBF0F8"
             },
             "line": {
              "color": "white"
             }
            },
            "header": {
             "fill": {
              "color": "#C8D4E3"
             },
             "line": {
              "color": "white"
             }
            },
            "type": "table"
           }
          ]
         },
         "layout": {
          "annotationdefaults": {
           "arrowcolor": "#2a3f5f",
           "arrowhead": 0,
           "arrowwidth": 1
          },
          "autotypenumbers": "strict",
          "coloraxis": {
           "colorbar": {
            "outlinewidth": 0,
            "ticks": ""
           }
          },
          "colorscale": {
           "diverging": [
            [
             0,
             "#8e0152"
            ],
            [
             0.1,
             "#c51b7d"
            ],
            [
             0.2,
             "#de77ae"
            ],
            [
             0.3,
             "#f1b6da"
            ],
            [
             0.4,
             "#fde0ef"
            ],
            [
             0.5,
             "#f7f7f7"
            ],
            [
             0.6,
             "#e6f5d0"
            ],
            [
             0.7,
             "#b8e186"
            ],
            [
             0.8,
             "#7fbc41"
            ],
            [
             0.9,
             "#4d9221"
            ],
            [
             1,
             "#276419"
            ]
           ],
           "sequential": [
            [
             0,
             "#0d0887"
            ],
            [
             0.1111111111111111,
             "#46039f"
            ],
            [
             0.2222222222222222,
             "#7201a8"
            ],
            [
             0.3333333333333333,
             "#9c179e"
            ],
            [
             0.4444444444444444,
             "#bd3786"
            ],
            [
             0.5555555555555556,
             "#d8576b"
            ],
            [
             0.6666666666666666,
             "#ed7953"
            ],
            [
             0.7777777777777778,
             "#fb9f3a"
            ],
            [
             0.8888888888888888,
             "#fdca26"
            ],
            [
             1,
             "#f0f921"
            ]
           ],
           "sequentialminus": [
            [
             0,
             "#0d0887"
            ],
            [
             0.1111111111111111,
             "#46039f"
            ],
            [
             0.2222222222222222,
             "#7201a8"
            ],
            [
             0.3333333333333333,
             "#9c179e"
            ],
            [
             0.4444444444444444,
             "#bd3786"
            ],
            [
             0.5555555555555556,
             "#d8576b"
            ],
            [
             0.6666666666666666,
             "#ed7953"
            ],
            [
             0.7777777777777778,
             "#fb9f3a"
            ],
            [
             0.8888888888888888,
             "#fdca26"
            ],
            [
             1,
             "#f0f921"
            ]
           ]
          },
          "colorway": [
           "#636efa",
           "#EF553B",
           "#00cc96",
           "#ab63fa",
           "#FFA15A",
           "#19d3f3",
           "#FF6692",
           "#B6E880",
           "#FF97FF",
           "#FECB52"
          ],
          "font": {
           "color": "#2a3f5f"
          },
          "geo": {
           "bgcolor": "white",
           "lakecolor": "white",
           "landcolor": "#E5ECF6",
           "showlakes": true,
           "showland": true,
           "subunitcolor": "white"
          },
          "hoverlabel": {
           "align": "left"
          },
          "hovermode": "closest",
          "mapbox": {
           "style": "light"
          },
          "paper_bgcolor": "white",
          "plot_bgcolor": "#E5ECF6",
          "polar": {
           "angularaxis": {
            "gridcolor": "white",
            "linecolor": "white",
            "ticks": ""
           },
           "bgcolor": "#E5ECF6",
           "radialaxis": {
            "gridcolor": "white",
            "linecolor": "white",
            "ticks": ""
           }
          },
          "scene": {
           "xaxis": {
            "backgroundcolor": "#E5ECF6",
            "gridcolor": "white",
            "gridwidth": 2,
            "linecolor": "white",
            "showbackground": true,
            "ticks": "",
            "zerolinecolor": "white"
           },
           "yaxis": {
            "backgroundcolor": "#E5ECF6",
            "gridcolor": "white",
            "gridwidth": 2,
            "linecolor": "white",
            "showbackground": true,
            "ticks": "",
            "zerolinecolor": "white"
           },
           "zaxis": {
            "backgroundcolor": "#E5ECF6",
            "gridcolor": "white",
            "gridwidth": 2,
            "linecolor": "white",
            "showbackground": true,
            "ticks": "",
            "zerolinecolor": "white"
           }
          },
          "shapedefaults": {
           "line": {
            "color": "#2a3f5f"
           }
          },
          "ternary": {
           "aaxis": {
            "gridcolor": "white",
            "linecolor": "white",
            "ticks": ""
           },
           "baxis": {
            "gridcolor": "white",
            "linecolor": "white",
            "ticks": ""
           },
           "bgcolor": "#E5ECF6",
           "caxis": {
            "gridcolor": "white",
            "linecolor": "white",
            "ticks": ""
           }
          },
          "title": {
           "x": 0.05
          },
          "xaxis": {
           "automargin": true,
           "gridcolor": "white",
           "linecolor": "white",
           "ticks": "",
           "title": {
            "standoff": 15
           },
           "zerolinecolor": "white",
           "zerolinewidth": 2
          },
          "yaxis": {
           "automargin": true,
           "gridcolor": "white",
           "linecolor": "white",
           "ticks": "",
           "title": {
            "standoff": 15
           },
           "zerolinecolor": "white",
           "zerolinewidth": 2
          }
         }
        },
        "title": {
         "text": "Hotel Information"
        },
        "xaxis": {
         "anchor": "y",
         "domain": [
          0,
          1
         ],
         "title": {
          "text": "Price (TWD)"
         }
        },
        "yaxis": {
         "anchor": "x",
         "domain": [
          0,
          1
         ],
         "title": {
          "text": "Distance (km)"
         }
        }
       }
      }
     },
     "metadata": {},
     "output_type": "display_data"
    }
   ],
   "source": [
    "graph1 = px.scatter(\n",
    "    data_frame=result_df,\n",
    "    x='price',\n",
    "    y='distance',\n",
    "    color='rating',\n",
    "    hover_name='name',\n",
    "    hover_data=['price', 'rating'],\n",
    "    title=\"Hotel Information\",\n",
    "    labels={\"price\": \"Price (TWD)\",\"distance\": \"Distance (km)\"}\n",
    ")\n",
    "graph1.show()"
   ]
  },
  {
   "cell_type": "markdown",
   "metadata": {},
   "source": [
    "---\n",
    "### Dash\n",
    "---"
   ]
  }
 ],
 "metadata": {
  "kernelspec": {
   "display_name": "Python 3",
   "language": "python",
   "name": "python3"
  },
  "language_info": {
   "codemirror_mode": {
    "name": "ipython",
    "version": 3
   },
   "file_extension": ".py",
   "mimetype": "text/x-python",
   "name": "python",
   "nbconvert_exporter": "python",
   "pygments_lexer": "ipython3",
   "version": "3.11.1"
  }
 },
 "nbformat": 4,
 "nbformat_minor": 2
}
